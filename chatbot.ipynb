{
  "cells": [
    {
      "cell_type": "markdown",
      "metadata": {
        "id": "8t8lIV-xa9Kj"
      },
      "source": [
        "## Import"
      ]
    },
    {
      "cell_type": "code",
      "execution_count": 2,
      "metadata": {
        "id": "ezaj5ICwZAQw"
      },
      "outputs": [],
      "source": [
        "import tensorflow as tf\n",
        "import matplotlib.pyplot as plt\n",
        "import numpy as np\n",
        "import pandas as pd\n",
        "import json\n",
        "import zipfile\n",
        "import string\n",
        "from tensorflow.keras.preprocessing.text import Tokenizer\n",
        "from tensorflow.keras.preprocessing.sequence import pad_sequences\n",
        "from tensorflow.keras.layers import Input, Embedding, LSTM, Dense, GlobalMaxPooling1D, Flatten\n",
        "from tensorflow.keras.models import Model\n",
        "from sklearn.preprocessing import LabelEncoder"
      ]
    },
    {
      "cell_type": "markdown",
      "metadata": {
        "id": "DGRpiWrobF58"
      },
      "source": [
        "## Parsing the Data"
      ]
    },
    {
      "cell_type": "code",
      "execution_count": 3,
      "metadata": {
        "id": "NTJ36V8WifMV"
      },
      "outputs": [],
      "source": [
        "with open('data/data.json') as i:\n",
        "  data = json.load(i)"
      ]
    },
    {
      "cell_type": "code",
      "execution_count": 4,
      "metadata": {
        "id": "doRTWA1si3co"
      },
      "outputs": [],
      "source": [
        "#getting all the data to lists\n",
        "tags = []\n",
        "inputs = []\n",
        "responses = {}\n",
        "for intent in data['intents']:\n",
        "  responses[intent['tag']]=intent['responses']\n",
        "  for lines in intent['input']:\n",
        "    inputs.append(lines)\n",
        "    tags.append(intent['tag'])"
      ]
    },
    {
      "cell_type": "code",
      "execution_count": 5,
      "metadata": {
        "colab": {
          "base_uri": "https://localhost:8080/",
          "height": 424
        },
        "id": "Lb70FRhTkqkF",
        "outputId": "16974786-2adb-41c9-c3f4-fbdd44886126"
      },
      "outputs": [
        {
          "name": "stdout",
          "output_type": "stream",
          "text": [
            "Data Shape\n",
            "row: 2\n",
            "columns: 1056\n"
          ]
        },
        {
          "data": {
            "text/html": [
              "<div>\n",
              "<style scoped>\n",
              "    .dataframe tbody tr th:only-of-type {\n",
              "        vertical-align: middle;\n",
              "    }\n",
              "\n",
              "    .dataframe tbody tr th {\n",
              "        vertical-align: top;\n",
              "    }\n",
              "\n",
              "    .dataframe thead th {\n",
              "        text-align: right;\n",
              "    }\n",
              "</style>\n",
              "<table border=\"1\" class=\"dataframe\">\n",
              "  <thead>\n",
              "    <tr style=\"text-align: right;\">\n",
              "      <th></th>\n",
              "      <th>inputs</th>\n",
              "      <th>tags</th>\n",
              "    </tr>\n",
              "  </thead>\n",
              "  <tbody>\n",
              "    <tr>\n",
              "      <th>0</th>\n",
              "      <td>hello</td>\n",
              "      <td>greeting</td>\n",
              "    </tr>\n",
              "    <tr>\n",
              "      <th>1</th>\n",
              "      <td>halo</td>\n",
              "      <td>greeting</td>\n",
              "    </tr>\n",
              "    <tr>\n",
              "      <th>2</th>\n",
              "      <td>hola</td>\n",
              "      <td>greeting</td>\n",
              "    </tr>\n",
              "    <tr>\n",
              "      <th>3</th>\n",
              "      <td>hey</td>\n",
              "      <td>greeting</td>\n",
              "    </tr>\n",
              "    <tr>\n",
              "      <th>4</th>\n",
              "      <td>hoy</td>\n",
              "      <td>greeting</td>\n",
              "    </tr>\n",
              "    <tr>\n",
              "      <th>5</th>\n",
              "      <td>yo</td>\n",
              "      <td>greeting</td>\n",
              "    </tr>\n",
              "    <tr>\n",
              "      <th>6</th>\n",
              "      <td>ahoy</td>\n",
              "      <td>greeting</td>\n",
              "    </tr>\n",
              "    <tr>\n",
              "      <th>7</th>\n",
              "      <td>sup</td>\n",
              "      <td>greeting</td>\n",
              "    </tr>\n",
              "    <tr>\n",
              "      <th>8</th>\n",
              "      <td>hey there</td>\n",
              "      <td>greeting</td>\n",
              "    </tr>\n",
              "    <tr>\n",
              "      <th>9</th>\n",
              "      <td>hi</td>\n",
              "      <td>greeting</td>\n",
              "    </tr>\n",
              "  </tbody>\n",
              "</table>\n",
              "</div>"
            ],
            "text/plain": [
              "      inputs      tags\n",
              "0      hello  greeting\n",
              "1       halo  greeting\n",
              "2       hola  greeting\n",
              "3        hey  greeting\n",
              "4        hoy  greeting\n",
              "5         yo  greeting\n",
              "6       ahoy  greeting\n",
              "7        sup  greeting\n",
              "8  hey there  greeting\n",
              "9         hi  greeting"
            ]
          },
          "execution_count": 5,
          "metadata": {},
          "output_type": "execute_result"
        }
      ],
      "source": [
        "#converting to dataframe\n",
        "data = pd.DataFrame({\n",
        "    \"inputs\":inputs,\n",
        "    \"tags\":tags\n",
        "    })\n",
        "print(\"Data Shape\\nrow: %d\\ncolumns: %d\"%(data.shape[1], data.shape[0]))\n",
        "data.head(10)"
      ]
    },
    {
      "cell_type": "markdown",
      "metadata": {},
      "source": [
        "## Train Test Split"
      ]
    },
    {
      "cell_type": "code",
      "execution_count": 6,
      "metadata": {},
      "outputs": [],
      "source": [
        "# Global Variable\n",
        "sentences = data['inputs']\n",
        "labels = data['tags']\n",
        "train_size = 0.8\n",
        "EMBEDDING_DIM = 100\n",
        "MAXLEN = 11\n",
        "TRUNCATING = 'post'\n",
        "PADDING = 'post'"
      ]
    },
    {
      "cell_type": "code",
      "execution_count": 7,
      "metadata": {},
      "outputs": [],
      "source": [
        "from sklearn.model_selection import train_test_split\n",
        "\n",
        "\n",
        "def train_val_split(sentences, labels, train_size):\n",
        "    train_sentences, validation_sentences, train_labels, validation_labels = train_test_split(\n",
        "        sentences, labels, train_size=train_size, random_state=10)\n",
        "    return train_sentences, validation_sentences, train_labels, validation_labels\n"
      ]
    },
    {
      "cell_type": "code",
      "execution_count": 8,
      "metadata": {},
      "outputs": [
        {
          "name": "stdout",
          "output_type": "stream",
          "text": [
            "There are 844 sentences for training.\n",
            "\n",
            "There are 844 labels for training.\n",
            "\n",
            "There are 212 sentences for validation.\n",
            "\n",
            "There are 212 labels for validation.\n"
          ]
        }
      ],
      "source": [
        "train_sentences, val_sentences, train_labels, val_labels = train_val_split(\n",
        "    sentences, labels, train_size)\n",
        "\n",
        "print(f\"There are {len(train_sentences)} sentences for training.\\n\")\n",
        "print(f\"There are {len(train_labels)} labels for training.\\n\")\n",
        "print(f\"There are {len(val_sentences)} sentences for validation.\\n\")\n",
        "print(f\"There are {len(val_labels)} labels for validation.\")\n"
      ]
    },
    {
      "cell_type": "markdown",
      "metadata": {
        "id": "O5j-zNH2bdPP"
      },
      "source": [
        "## Data Cleaning"
      ]
    },
    {
      "cell_type": "markdown",
      "metadata": {
        "id": "IthlycSfbfko"
      },
      "source": [
        "#### Removing Punctuations"
      ]
    },
    {
      "cell_type": "code",
      "execution_count": 9,
      "metadata": {
        "colab": {
          "base_uri": "https://localhost:8080/",
          "height": 424
        },
        "id": "FCwzOz_Jk2Mg",
        "outputId": "c4851831-faaa-43aa-8d0e-b3f1f21b1f3a"
      },
      "outputs": [
        {
          "data": {
            "text/plain": [
              "989                                                ok bye\n",
              "802                   tell me how to refund flight ticket\n",
              "924                           how to regain travel credit\n",
              "504     where i can get information about reschedule h...\n",
              "661                              hotel ticket cancelation\n",
              "104                credit card transaction not successful\n",
              "828                  whats the call center contact number\n",
              "524                   i think i wanna reschedule my hotel\n",
              "750                                cancel boarding ticket\n",
              "1046                                         im impressed\n",
              "Name: inputs, dtype: object"
            ]
          },
          "execution_count": 9,
          "metadata": {},
          "output_type": "execute_result"
        }
      ],
      "source": [
        "train_sentences = train_sentences.apply(\n",
        "    lambda wrd: [ltrs.lower() for ltrs in wrd if ltrs not in string.punctuation])\n",
        "train_sentences = train_sentences.apply(lambda wrd: ''.join(wrd))\n",
        "\n",
        "train_sentences.head(10)"
      ]
    },
    {
      "cell_type": "markdown",
      "metadata": {
        "id": "a5R-mdL9bjNn"
      },
      "source": [
        "#### Tokenizer"
      ]
    },
    {
      "cell_type": "code",
      "execution_count": 10,
      "metadata": {
        "id": "DbjE-szoWDNI"
      },
      "outputs": [],
      "source": [
        "def fit_tokenizer(data, oov_token):\n",
        "  # Instantiate the Tokenizer class, passing in the correct values for num_words and oov_token\n",
        "  tokenizer = Tokenizer(num_words=1000, oov_token=oov_token)\n",
        "\n",
        "  # Fit the tokenizer to the training sentences\n",
        "  tokenizer.fit_on_texts(data)\n",
        "\n",
        "  return tokenizer\n"
      ]
    },
    {
      "cell_type": "code",
      "execution_count": 11,
      "metadata": {
        "colab": {
          "base_uri": "https://localhost:8080/"
        },
        "id": "bzTaTiLPWyW8",
        "outputId": "bba2a822-9646-4d25-e415-b72e13fd59cb"
      },
      "outputs": [
        {
          "name": "stdout",
          "output_type": "stream",
          "text": [
            "number of unique words:  402\n"
          ]
        }
      ],
      "source": [
        "tokenizer = fit_tokenizer(train_sentences, \"<OOV>\")\n",
        "\n",
        "word_index = tokenizer.word_index\n",
        "vocab_size = len(word_index)\n",
        "print(\"number of unique words: \", vocab_size)"
      ]
    },
    {
      "cell_type": "markdown",
      "metadata": {
        "id": "zQ6j2CWXboQm"
      },
      "source": [
        "#### Sequences, truncating and padding"
      ]
    },
    {
      "cell_type": "code",
      "execution_count": 12,
      "metadata": {
        "id": "Urn2AdlvXJS4"
      },
      "outputs": [],
      "source": [
        "def seq_pad_and_trunc(sentences, tokenizer, padding, truncating, maxlen):\n",
        "\n",
        "    # Convert sentences to sequences\n",
        "    sequences = tokenizer.texts_to_sequences(sentences, )\n",
        "\n",
        "    # Pad the sequences using the correct padding, truncating and maxlen\n",
        "    x_train = pad_sequences(sequences, maxlen=maxlen,\n",
        "                            padding=padding, truncating=truncating)\n",
        "\n",
        "    return x_train\n"
      ]
    },
    {
      "cell_type": "code",
      "execution_count": 13,
      "metadata": {
        "id": "kfaN9d8vXLyA"
      },
      "outputs": [
        {
          "name": "stdout",
          "output_type": "stream",
          "text": [
            "Padded and truncated training sequences have shape: (844, 11)\n",
            "\n",
            "Padded and truncated validation sequences have shape: (212, 11)\n"
          ]
        }
      ],
      "source": [
        "train_pad_trunc_seq = seq_pad_and_trunc(\n",
        "    train_sentences, tokenizer, PADDING, TRUNCATING, MAXLEN)\n",
        "val_pad_trunc_seq = seq_pad_and_trunc(\n",
        "    val_sentences, tokenizer, PADDING, TRUNCATING, MAXLEN)\n",
        "\n",
        "print(\n",
        "    f\"Padded and truncated training sequences have shape: {train_pad_trunc_seq.shape}\\n\")\n",
        "print(\n",
        "    f\"Padded and truncated validation sequences have shape: {val_pad_trunc_seq.shape}\")\n"
      ]
    },
    {
      "cell_type": "code",
      "execution_count": 14,
      "metadata": {},
      "outputs": [],
      "source": [
        "train_labels = np.array(train_labels)\n",
        "val_labels = np.array(val_labels)"
      ]
    },
    {
      "cell_type": "markdown",
      "metadata": {
        "id": "WOoBOsEzbvNy"
      },
      "source": [
        "#### Encoding"
      ]
    },
    {
      "cell_type": "code",
      "execution_count": 15,
      "metadata": {
        "colab": {
          "base_uri": "https://localhost:8080/"
        },
        "id": "BpIWuMJElg38",
        "outputId": "dcbafd91-563d-4418-c017-0f2feba3a495"
      },
      "outputs": [],
      "source": [
        "le = LabelEncoder()\n",
        "train_labels = le.fit_transform(train_labels)\n",
        "val_labels = le.fit_transform(val_labels)"
      ]
    },
    {
      "cell_type": "code",
      "execution_count": 16,
      "metadata": {},
      "outputs": [
        {
          "name": "stdout",
          "output_type": "stream",
          "text": [
            "number of tags:  13\n"
          ]
        }
      ],
      "source": [
        "tags_unique_length = le.classes_.shape[0]\n",
        "print(\"number of tags: \", tags_unique_length)\n"
      ]
    },
    {
      "cell_type": "markdown",
      "metadata": {},
      "source": [
        "## Embedding"
      ]
    },
    {
      "cell_type": "code",
      "execution_count": null,
      "metadata": {},
      "outputs": [],
      "source": [
        "# download it\n",
        "!wget --no-check-certificate \\\n",
        "    http://nlp.stanford.edu/data/glove.6B.zip \\\n",
        "    -O /tmp/glove.6B.zip"
      ]
    },
    {
      "cell_type": "code",
      "execution_count": null,
      "metadata": {},
      "outputs": [],
      "source": [
        "with zipfile.ZipFile('tmp/glove.6B.zip', 'r') as zip_ref:\n",
        "    zip_ref.extractall('tmp/glove')"
      ]
    },
    {
      "cell_type": "code",
      "execution_count": 17,
      "metadata": {},
      "outputs": [],
      "source": [
        "# Define path to file containing the embeddings\n",
        "GLOVE_FILE = 'tmp/glove/glove.6B.100d.txt'\n",
        "\n",
        "# Initialize an empty embeddings index dictionary\n",
        "GLOVE_EMBEDDINGS = {}\n",
        "\n",
        "# Read file and fill GLOVE_EMBEDDINGS with its contents\n",
        "with open(GLOVE_FILE, encoding=\"utf8\") as f:\n",
        "    for line in f:\n",
        "        values = line.split()\n",
        "        word = values[0]\n",
        "        coefs = np.asarray(values[1:], dtype='float32')\n",
        "        GLOVE_EMBEDDINGS[word] = coefs"
      ]
    },
    {
      "cell_type": "code",
      "execution_count": 18,
      "metadata": {},
      "outputs": [],
      "source": [
        "# Initialize an empty numpy array with the appropriate size\n",
        "EMBEDDINGS_MATRIX = np.zeros((vocab_size+1, EMBEDDING_DIM))\n",
        "\n",
        "# Iterate all of the words in the vocabulary and if the vector representation for\n",
        "# each word exists within GloVe's representations, save it in the EMBEDDINGS_MATRIX array\n",
        "for word, i in word_index.items():\n",
        "    embedding_vector = GLOVE_EMBEDDINGS.get(word)\n",
        "    if embedding_vector is not None:\n",
        "        EMBEDDINGS_MATRIX[i] = embedding_vector"
      ]
    },
    {
      "cell_type": "markdown",
      "metadata": {
        "id": "KPWrLVyzbP_v"
      },
      "source": [
        "## Modelling"
      ]
    },
    {
      "cell_type": "code",
      "execution_count": 52,
      "metadata": {
        "id": "XDqek1bxZvnv"
      },
      "outputs": [],
      "source": [
        "def create_nlp_model(vocab_size, output_length, embedding_dim, embedding_matrix, maxlen):\n",
        "\n",
        "  model = tf.keras.Sequential([\n",
        "      tf.keras.layers.Embedding(vocab_size+1, embedding_dim,\n",
        "                                input_length=maxlen, weights=[embedding_matrix], trainable=True),\n",
        "      tf.keras.layers.Bidirectional(\n",
        "          tf.keras.layers.LSTM(64,  return_sequences=True)),\n",
        "      tf.keras.layers.Bidirectional(tf.keras.layers.LSTM(32)),\n",
        "      tf.keras.layers.Dense(16, activation='relu', kernel_regularizer=tf.keras.regularizers.L1(\n",
        "          1e-6), activity_regularizer=tf.keras.regularizers.L1(1e-6)),\n",
        "      tf.keras.layers.Dropout(0.009),\n",
        "      tf.keras.layers.Dense(16, activation='relu', kernel_regularizer=tf.keras.regularizers.L2(\n",
        "          1e-6), activity_regularizer=tf.keras.regularizers.L2(1e-6)),\n",
        "      tf.keras.layers.Dropout(0.008),\n",
        "      tf.keras.layers.Dense(output_length, activation='softmax')\n",
        "  ])\n",
        "\n",
        "  model.compile(loss='sparse_categorical_crossentropy',\n",
        "                optimizer=tf.keras.optimizers.Adam(learning_rate=0.0001),\n",
        "                metrics=['accuracy'])\n",
        "  return model\n"
      ]
    },
    {
      "cell_type": "code",
      "execution_count": 53,
      "metadata": {
        "colab": {
          "base_uri": "https://localhost:8080/"
        },
        "id": "y_2mtMNUc10j",
        "outputId": "50aae63d-f768-45b4-8bf2-0ae1dd91bd40"
      },
      "outputs": [
        {
          "name": "stdout",
          "output_type": "stream",
          "text": [
            "Model: \"sequential_7\"\n",
            "_________________________________________________________________\n",
            " Layer (type)                Output Shape              Param #   \n",
            "=================================================================\n",
            " embedding_7 (Embedding)     (None, 11, 100)           40300     \n",
            "                                                                 \n",
            " bidirectional_14 (Bidirecti  (None, 11, 128)          84480     \n",
            " onal)                                                           \n",
            "                                                                 \n",
            " bidirectional_15 (Bidirecti  (None, 64)               41216     \n",
            " onal)                                                           \n",
            "                                                                 \n",
            " dense_21 (Dense)            (None, 16)                1040      \n",
            "                                                                 \n",
            " dropout_14 (Dropout)        (None, 16)                0         \n",
            "                                                                 \n",
            " dense_22 (Dense)            (None, 16)                272       \n",
            "                                                                 \n",
            " dropout_15 (Dropout)        (None, 16)                0         \n",
            "                                                                 \n",
            " dense_23 (Dense)            (None, 13)                221       \n",
            "                                                                 \n",
            "=================================================================\n",
            "Total params: 167,529\n",
            "Trainable params: 167,529\n",
            "Non-trainable params: 0\n",
            "_________________________________________________________________\n"
          ]
        }
      ],
      "source": [
        "model = create_nlp_model(vocab_size, tags_unique_length,\n",
        "                         EMBEDDING_DIM, EMBEDDINGS_MATRIX, MAXLEN)\n",
        "                         \n",
        "model.summary()"
      ]
    },
    {
      "cell_type": "code",
      "execution_count": 54,
      "metadata": {},
      "outputs": [
        {
          "name": "stdout",
          "output_type": "stream",
          "text": [
            "Epoch 1/50\n",
            "27/27 [==============================] - 7s 81ms/step - loss: 2.5621 - accuracy: 0.0972 - val_loss: 2.5466 - val_accuracy: 0.0849\n",
            "Epoch 2/50\n",
            "27/27 [==============================] - 2s 57ms/step - loss: 2.5300 - accuracy: 0.1043 - val_loss: 2.5206 - val_accuracy: 0.1132\n",
            "Epoch 3/50\n",
            "27/27 [==============================] - 1s 52ms/step - loss: 2.4968 - accuracy: 0.1410 - val_loss: 2.4837 - val_accuracy: 0.1274\n",
            "Epoch 4/50\n",
            "27/27 [==============================] - 1s 51ms/step - loss: 2.4523 - accuracy: 0.1635 - val_loss: 2.4296 - val_accuracy: 0.2170\n",
            "Epoch 5/50\n",
            "27/27 [==============================] - 1s 47ms/step - loss: 2.3967 - accuracy: 0.2073 - val_loss: 2.3649 - val_accuracy: 0.2453\n",
            "Epoch 6/50\n",
            "27/27 [==============================] - 1s 47ms/step - loss: 2.3161 - accuracy: 0.2618 - val_loss: 2.2749 - val_accuracy: 0.2642\n",
            "Epoch 7/50\n",
            "27/27 [==============================] - 1s 44ms/step - loss: 2.2124 - accuracy: 0.2832 - val_loss: 2.1617 - val_accuracy: 0.3019\n",
            "Epoch 8/50\n",
            "27/27 [==============================] - 1s 43ms/step - loss: 2.0889 - accuracy: 0.3365 - val_loss: 2.0387 - val_accuracy: 0.3443\n",
            "Epoch 9/50\n",
            "27/27 [==============================] - 1s 45ms/step - loss: 1.9654 - accuracy: 0.3744 - val_loss: 1.9037 - val_accuracy: 0.3962\n",
            "Epoch 10/50\n",
            "27/27 [==============================] - 1s 48ms/step - loss: 1.8362 - accuracy: 0.4491 - val_loss: 1.7695 - val_accuracy: 0.4292\n",
            "Epoch 11/50\n",
            "27/27 [==============================] - 1s 49ms/step - loss: 1.6898 - accuracy: 0.5012 - val_loss: 1.6194 - val_accuracy: 0.5519\n",
            "Epoch 12/50\n",
            "27/27 [==============================] - 1s 46ms/step - loss: 1.5588 - accuracy: 0.5853 - val_loss: 1.4739 - val_accuracy: 0.6887\n",
            "Epoch 13/50\n",
            "27/27 [==============================] - 1s 48ms/step - loss: 1.4239 - accuracy: 0.7002 - val_loss: 1.3498 - val_accuracy: 0.7311\n",
            "Epoch 14/50\n",
            "27/27 [==============================] - 1s 48ms/step - loss: 1.2743 - accuracy: 0.7737 - val_loss: 1.2059 - val_accuracy: 0.7972\n",
            "Epoch 15/50\n",
            "27/27 [==============================] - 1s 47ms/step - loss: 1.1675 - accuracy: 0.7950 - val_loss: 1.1037 - val_accuracy: 0.8302\n",
            "Epoch 16/50\n",
            "27/27 [==============================] - 1s 47ms/step - loss: 1.0523 - accuracy: 0.8140 - val_loss: 0.9927 - val_accuracy: 0.8302\n",
            "Epoch 17/50\n",
            "27/27 [==============================] - 1s 46ms/step - loss: 0.9598 - accuracy: 0.8223 - val_loss: 0.9103 - val_accuracy: 0.8208\n",
            "Epoch 18/50\n",
            "27/27 [==============================] - 1s 46ms/step - loss: 0.8744 - accuracy: 0.8389 - val_loss: 0.8211 - val_accuracy: 0.8585\n",
            "Epoch 19/50\n",
            "27/27 [==============================] - 1s 47ms/step - loss: 0.7977 - accuracy: 0.8531 - val_loss: 0.7494 - val_accuracy: 0.8679\n",
            "Epoch 20/50\n",
            "27/27 [==============================] - 1s 50ms/step - loss: 0.7248 - accuracy: 0.8685 - val_loss: 0.6815 - val_accuracy: 0.8821\n",
            "Epoch 21/50\n",
            "27/27 [==============================] - 1s 45ms/step - loss: 0.6726 - accuracy: 0.8827 - val_loss: 0.6181 - val_accuracy: 0.9057\n",
            "Epoch 22/50\n",
            "27/27 [==============================] - 1s 45ms/step - loss: 0.6288 - accuracy: 0.8922 - val_loss: 0.5834 - val_accuracy: 0.9057\n",
            "Epoch 23/50\n",
            "27/27 [==============================] - 1s 47ms/step - loss: 0.5585 - accuracy: 0.9230 - val_loss: 0.5291 - val_accuracy: 0.9340\n",
            "Epoch 24/50\n",
            "27/27 [==============================] - 1s 46ms/step - loss: 0.5236 - accuracy: 0.9230 - val_loss: 0.4995 - val_accuracy: 0.9340\n",
            "Epoch 25/50\n",
            "27/27 [==============================] - 1s 48ms/step - loss: 0.4755 - accuracy: 0.9396 - val_loss: 0.4594 - val_accuracy: 0.9245\n",
            "Epoch 26/50\n",
            "27/27 [==============================] - 1s 48ms/step - loss: 0.4305 - accuracy: 0.9502 - val_loss: 0.4315 - val_accuracy: 0.9340\n",
            "Epoch 27/50\n",
            "27/27 [==============================] - 1s 47ms/step - loss: 0.4176 - accuracy: 0.9443 - val_loss: 0.4124 - val_accuracy: 0.9387\n",
            "Epoch 28/50\n",
            "27/27 [==============================] - 1s 46ms/step - loss: 0.3705 - accuracy: 0.9609 - val_loss: 0.3843 - val_accuracy: 0.9387\n",
            "Epoch 29/50\n",
            "27/27 [==============================] - 1s 45ms/step - loss: 0.3510 - accuracy: 0.9562 - val_loss: 0.3612 - val_accuracy: 0.9434\n",
            "Epoch 30/50\n",
            "27/27 [==============================] - 1s 45ms/step - loss: 0.3296 - accuracy: 0.9585 - val_loss: 0.3513 - val_accuracy: 0.9481\n",
            "Epoch 31/50\n",
            "27/27 [==============================] - 1s 46ms/step - loss: 0.3046 - accuracy: 0.9609 - val_loss: 0.3197 - val_accuracy: 0.9575\n",
            "Epoch 32/50\n",
            "27/27 [==============================] - 1s 46ms/step - loss: 0.2841 - accuracy: 0.9704 - val_loss: 0.3122 - val_accuracy: 0.9434\n",
            "Epoch 33/50\n",
            "27/27 [==============================] - 1s 48ms/step - loss: 0.2637 - accuracy: 0.9704 - val_loss: 0.3038 - val_accuracy: 0.9481\n",
            "Epoch 34/50\n",
            "27/27 [==============================] - 1s 48ms/step - loss: 0.2416 - accuracy: 0.9727 - val_loss: 0.2775 - val_accuracy: 0.9623\n",
            "Epoch 35/50\n",
            "27/27 [==============================] - 1s 46ms/step - loss: 0.2292 - accuracy: 0.9751 - val_loss: 0.2708 - val_accuracy: 0.9481\n",
            "Epoch 36/50\n",
            "27/27 [==============================] - 1s 46ms/step - loss: 0.2058 - accuracy: 0.9775 - val_loss: 0.2628 - val_accuracy: 0.9528\n",
            "Epoch 37/50\n",
            "27/27 [==============================] - 1s 46ms/step - loss: 0.2104 - accuracy: 0.9716 - val_loss: 0.2455 - val_accuracy: 0.9528\n",
            "Epoch 38/50\n",
            "27/27 [==============================] - 1s 46ms/step - loss: 0.1922 - accuracy: 0.9739 - val_loss: 0.2397 - val_accuracy: 0.9575\n",
            "Epoch 39/50\n",
            "27/27 [==============================] - 1s 45ms/step - loss: 0.1845 - accuracy: 0.9763 - val_loss: 0.2348 - val_accuracy: 0.9575\n",
            "Epoch 40/50\n",
            "27/27 [==============================] - 2s 60ms/step - loss: 0.1669 - accuracy: 0.9810 - val_loss: 0.2232 - val_accuracy: 0.9575\n",
            "Epoch 41/50\n",
            "27/27 [==============================] - 2s 57ms/step - loss: 0.1616 - accuracy: 0.9763 - val_loss: 0.2135 - val_accuracy: 0.9575\n",
            "Epoch 42/50\n",
            "27/27 [==============================] - 1s 55ms/step - loss: 0.1600 - accuracy: 0.9727 - val_loss: 0.2103 - val_accuracy: 0.9575\n",
            "Epoch 43/50\n",
            "27/27 [==============================] - 1s 56ms/step - loss: 0.1424 - accuracy: 0.9787 - val_loss: 0.2060 - val_accuracy: 0.9575\n",
            "Epoch 44/50\n",
            "27/27 [==============================] - 1s 55ms/step - loss: 0.1515 - accuracy: 0.9680 - val_loss: 0.2017 - val_accuracy: 0.9575\n",
            "Epoch 45/50\n",
            "27/27 [==============================] - 1s 56ms/step - loss: 0.1337 - accuracy: 0.9810 - val_loss: 0.1991 - val_accuracy: 0.9575\n",
            "Epoch 46/50\n",
            "27/27 [==============================] - 1s 56ms/step - loss: 0.1274 - accuracy: 0.9810 - val_loss: 0.1959 - val_accuracy: 0.9575\n",
            "Epoch 47/50\n",
            "27/27 [==============================] - 2s 57ms/step - loss: 0.1426 - accuracy: 0.9727 - val_loss: 0.1840 - val_accuracy: 0.9575\n",
            "Epoch 48/50\n",
            "27/27 [==============================] - 1s 55ms/step - loss: 0.1245 - accuracy: 0.9727 - val_loss: 0.1863 - val_accuracy: 0.9575\n",
            "Epoch 49/50\n",
            "27/27 [==============================] - 2s 58ms/step - loss: 0.1095 - accuracy: 0.9846 - val_loss: 0.1875 - val_accuracy: 0.9575\n",
            "Epoch 50/50\n",
            "27/27 [==============================] - 1s 55ms/step - loss: 0.1015 - accuracy: 0.9870 - val_loss: 0.1748 - val_accuracy: 0.9528\n"
          ]
        }
      ],
      "source": [
        "history = model.fit(train_pad_trunc_seq, train_labels,\n",
        "                    epochs=50, validation_data=(val_pad_trunc_seq, val_labels))"
      ]
    },
    {
      "cell_type": "code",
      "execution_count": 55,
      "metadata": {
        "colab": {
          "base_uri": "https://localhost:8080/",
          "height": 285
        },
        "id": "ftg8zQw-oDtH",
        "outputId": "dc7ea5ba-5166-47b9-f88f-7d25d3a34ec3"
      },
      "outputs": [
        {
          "data": {
            "image/png": "[encoded data removed]",
            "text/plain": [
              "<Figure size 432x288 with 1 Axes>"
            ]
          },
          "metadata": {
            "needs_background": "light"
          },
          "output_type": "display_data"
        }
      ],
      "source": [
        "#-----------------------------------------------------------\n",
        "# Retrieve a list of list results on training and test data\n",
        "# sets for each training epoch\n",
        "#-----------------------------------------------------------\n",
        "loss = history.history['loss']\n",
        "val_loss = history.history['val_loss']\n",
        "\n",
        "#------------------------------------------------\n",
        "# Plot training and validation loss per epoch\n",
        "#------------------------------------------------\n",
        "plt.plot(loss, 'r')\n",
        "plt.plot(val_loss, 'b')\n",
        "plt.title('Training and validation loss')\n",
        "plt.xlabel(\"Epochs\")\n",
        "plt.ylabel(\"Loss\")\n",
        "plt.legend([\"Loss\", \"Validation Loss\"])\n",
        "plt.show()\n"
      ]
    },
    {
      "cell_type": "code",
      "execution_count": 56,
      "metadata": {},
      "outputs": [
        {
          "data": {
            "image/png": "[encoded data removed]",
            "text/plain": [
              "<Figure size 432x288 with 1 Axes>"
            ]
          },
          "metadata": {
            "needs_background": "light"
          },
          "output_type": "display_data"
        }
      ],
      "source": [
        "acc = history.history['accuracy']\n",
        "val_acc = history.history['val_accuracy']\n",
        "\n",
        "#------------------------------------------------\n",
        "# Plot training and validation accuracy per epoch\n",
        "#------------------------------------------------\n",
        "plt.plot(acc, 'r')\n",
        "plt.plot(val_acc, 'b')\n",
        "plt.title('Training and validation accuracy')\n",
        "plt.xlabel(\"Epochs\")\n",
        "plt.ylabel(\"Accuracy\")\n",
        "plt.legend([\"Accuracy\", \"Validation Accuracy\"])\n",
        "plt.show()\n"
      ]
    },
    {
      "cell_type": "markdown",
      "metadata": {},
      "source": [
        "## Save Model"
      ]
    },
    {
      "cell_type": "code",
      "execution_count": null,
      "metadata": {
        "id": "T_cliCIEEwmY"
      },
      "outputs": [],
      "source": [
        "# # with pickle\n",
        "# import pickle\n",
        "# pickle.dump(model, open('model.pkl', 'wb'))\n",
        "\n",
        "# # with keras\n",
        "# model.save(\"model/model.h5\")"
      ]
    }
  ],
  "metadata": {
    "colab": {
      "collapsed_sections": [],
      "name": "ChatBot_Company_Capstone.ipynb",
      "provenance": []
    },
    "interpreter": {
      "hash": "ba53a595d377893a5d8f198985857c9e6d561d1f944dd06ed29a4a9d0362b6ce"
    },
    "kernelspec": {
      "display_name": "Python 3.8.8 ('base')",
      "language": "python",
      "name": "python3"
    },
    "language_info": {
      "codemirror_mode": {
        "name": "ipython",
        "version": 3
      },
      "file_extension": ".py",
      "mimetype": "text/x-python",
      "name": "python",
      "nbconvert_exporter": "python",
      "pygments_lexer": "ipython3",
      "version": "3.8.8"
    }
  },
  "nbformat": 4,
  "nbformat_minor": 0
}
