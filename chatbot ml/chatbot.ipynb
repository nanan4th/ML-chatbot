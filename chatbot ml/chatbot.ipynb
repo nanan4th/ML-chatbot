{
  "cells": [
    {
      "cell_type": "markdown",
      "metadata": {
        "id": "8t8lIV-xa9Kj"
      },
      "source": [
        "## Import"
      ]
    },
    {
      "cell_type": "code",
      "execution_count": 1,
      "metadata": {
        "id": "ezaj5ICwZAQw"
      },
      "outputs": [],
      "source": [
        "import tensorflow as tf\n",
        "import matplotlib.pyplot as plt\n",
        "import numpy as np\n",
        "import pandas as pd\n",
        "import json\n",
        "import nltk\n",
        "import zipfile\n",
        "import string\n",
        "import wget\n",
        "from tensorflow.keras.preprocessing.text import Tokenizer\n",
        "from tensorflow.keras.preprocessing.sequence import pad_sequences\n",
        "from tensorflow.keras.layers import Input, Embedding, LSTM, Dense, GlobalMaxPooling1D, Flatten\n",
        "from tensorflow.keras.models import Model\n",
        "from sklearn.preprocessing import LabelEncoder"
      ]
    },
    {
      "cell_type": "markdown",
      "metadata": {
        "id": "DGRpiWrobF58"
      },
      "source": [
        "## Parsing the Data"
      ]
    },
    {
      "cell_type": "code",
      "execution_count": 2,
      "metadata": {
        "id": "NTJ36V8WifMV"
      },
      "outputs": [],
      "source": [
        "with open('data/data.json') as i:\n",
        "  data = json.load(i)"
      ]
    },
    {
      "cell_type": "code",
      "execution_count": 3,
      "metadata": {
        "id": "doRTWA1si3co"
      },
      "outputs": [],
      "source": [
        "#getting all the data to lists\n",
        "tags = []\n",
        "inputs = []\n",
        "responses = {}\n",
        "for intent in data['intents']:\n",
        "  responses[intent['tag']]=intent['responses']\n",
        "  for lines in intent['input']:\n",
        "    inputs.append(lines)\n",
        "    tags.append(intent['tag'])"
      ]
    },
    {
      "cell_type": "code",
      "execution_count": 4,
      "metadata": {
        "colab": {
          "base_uri": "https://localhost:8080/",
          "height": 424
        },
        "id": "Lb70FRhTkqkF",
        "outputId": "16974786-2adb-41c9-c3f4-fbdd44886126"
      },
      "outputs": [
        {
          "name": "stdout",
          "output_type": "stream",
          "text": [
            "Data Shape\n",
            "row: 2\n",
            "columns: 1056\n"
          ]
        },
        {
          "data": {
            "text/html": [
              "<div>\n",
              "<style scoped>\n",
              "    .dataframe tbody tr th:only-of-type {\n",
              "        vertical-align: middle;\n",
              "    }\n",
              "\n",
              "    .dataframe tbody tr th {\n",
              "        vertical-align: top;\n",
              "    }\n",
              "\n",
              "    .dataframe thead th {\n",
              "        text-align: right;\n",
              "    }\n",
              "</style>\n",
              "<table border=\"1\" class=\"dataframe\">\n",
              "  <thead>\n",
              "    <tr style=\"text-align: right;\">\n",
              "      <th></th>\n",
              "      <th>inputs</th>\n",
              "      <th>tags</th>\n",
              "    </tr>\n",
              "  </thead>\n",
              "  <tbody>\n",
              "    <tr>\n",
              "      <th>0</th>\n",
              "      <td>hello</td>\n",
              "      <td>greeting</td>\n",
              "    </tr>\n",
              "    <tr>\n",
              "      <th>1</th>\n",
              "      <td>halo</td>\n",
              "      <td>greeting</td>\n",
              "    </tr>\n",
              "    <tr>\n",
              "      <th>2</th>\n",
              "      <td>hola</td>\n",
              "      <td>greeting</td>\n",
              "    </tr>\n",
              "    <tr>\n",
              "      <th>3</th>\n",
              "      <td>hey</td>\n",
              "      <td>greeting</td>\n",
              "    </tr>\n",
              "    <tr>\n",
              "      <th>4</th>\n",
              "      <td>hoy</td>\n",
              "      <td>greeting</td>\n",
              "    </tr>\n",
              "    <tr>\n",
              "      <th>5</th>\n",
              "      <td>yo</td>\n",
              "      <td>greeting</td>\n",
              "    </tr>\n",
              "    <tr>\n",
              "      <th>6</th>\n",
              "      <td>ahoy</td>\n",
              "      <td>greeting</td>\n",
              "    </tr>\n",
              "    <tr>\n",
              "      <th>7</th>\n",
              "      <td>sup</td>\n",
              "      <td>greeting</td>\n",
              "    </tr>\n",
              "    <tr>\n",
              "      <th>8</th>\n",
              "      <td>hey there</td>\n",
              "      <td>greeting</td>\n",
              "    </tr>\n",
              "    <tr>\n",
              "      <th>9</th>\n",
              "      <td>hi</td>\n",
              "      <td>greeting</td>\n",
              "    </tr>\n",
              "  </tbody>\n",
              "</table>\n",
              "</div>"
            ],
            "text/plain": [
              "      inputs      tags\n",
              "0      hello  greeting\n",
              "1       halo  greeting\n",
              "2       hola  greeting\n",
              "3        hey  greeting\n",
              "4        hoy  greeting\n",
              "5         yo  greeting\n",
              "6       ahoy  greeting\n",
              "7        sup  greeting\n",
              "8  hey there  greeting\n",
              "9         hi  greeting"
            ]
          },
          "execution_count": 4,
          "metadata": {},
          "output_type": "execute_result"
        }
      ],
      "source": [
        "#converting to dataframe\n",
        "data = pd.DataFrame({\n",
        "    \"inputs\":inputs,\n",
        "    \"tags\":tags\n",
        "    })\n",
        "print(\"Data Shape\\nrow: %d\\ncolumns: %d\"%(data.shape[1], data.shape[0]))\n",
        "data.head(10)"
      ]
    },
    {
      "cell_type": "markdown",
      "metadata": {},
      "source": [
        "## Train Test Split"
      ]
    },
    {
      "cell_type": "code",
      "execution_count": 5,
      "metadata": {},
      "outputs": [],
      "source": [
        "# Global Variable\n",
        "sentences = data['inputs']\n",
        "labels = data['tags']\n",
        "train_size = 0.8\n",
        "EMBEDDING_DIM = 100\n",
        "MAXLEN = 24\n",
        "TRUNCATING = 'post'\n",
        "PADDING = 'post'"
      ]
    },
    {
      "cell_type": "code",
      "execution_count": 6,
      "metadata": {},
      "outputs": [],
      "source": [
        "from sklearn.model_selection import train_test_split\n",
        "\n",
        "\n",
        "def train_val_split(sentences, labels, train_size):\n",
        "    train_sentences, validation_sentences, train_labels, validation_labels = train_test_split(\n",
        "        sentences, labels, train_size=train_size, random_state=10)\n",
        "    return train_sentences, validation_sentences, train_labels, validation_labels\n"
      ]
    },
    {
      "cell_type": "code",
      "execution_count": 7,
      "metadata": {},
      "outputs": [
        {
          "name": "stdout",
          "output_type": "stream",
          "text": [
            "There are 844 sentences for training.\n",
            "\n",
            "There are 844 labels for training.\n",
            "\n",
            "There are 212 sentences for validation.\n",
            "\n",
            "There are 212 labels for validation.\n"
          ]
        }
      ],
      "source": [
        "train_sentences, val_sentences, train_labels, val_labels = train_val_split(\n",
        "    sentences, labels, train_size)\n",
        "\n",
        "print(f\"There are {len(train_sentences)} sentences for training.\\n\")\n",
        "print(f\"There are {len(train_labels)} labels for training.\\n\")\n",
        "print(f\"There are {len(val_sentences)} sentences for validation.\\n\")\n",
        "print(f\"There are {len(val_labels)} labels for validation.\")\n"
      ]
    },
    {
      "cell_type": "markdown",
      "metadata": {
        "id": "O5j-zNH2bdPP"
      },
      "source": [
        "## Data Cleaning"
      ]
    },
    {
      "cell_type": "markdown",
      "metadata": {
        "id": "IthlycSfbfko"
      },
      "source": [
        "#### Removing Punctuations"
      ]
    },
    {
      "cell_type": "code",
      "execution_count": 8,
      "metadata": {
        "colab": {
          "base_uri": "https://localhost:8080/",
          "height": 424
        },
        "id": "FCwzOz_Jk2Mg",
        "outputId": "c4851831-faaa-43aa-8d0e-b3f1f21b1f3a"
      },
      "outputs": [
        {
          "data": {
            "text/plain": [
              "989                                                ok bye\n",
              "802                   tell me how to refund flight ticket\n",
              "924                           how to regain travel credit\n",
              "504     where i can get information about reschedule h...\n",
              "661                              hotel ticket cancelation\n",
              "104                credit card transaction not successful\n",
              "828                  whats the call center contact number\n",
              "524                   i think i wanna reschedule my hotel\n",
              "750                                cancel boarding ticket\n",
              "1046                                         im impressed\n",
              "Name: inputs, dtype: object"
            ]
          },
          "execution_count": 8,
          "metadata": {},
          "output_type": "execute_result"
        }
      ],
      "source": [
        "train_sentences = train_sentences.apply(\n",
        "    lambda wrd: [ltrs.lower() for ltrs in wrd if ltrs not in string.punctuation])\n",
        "train_sentences = train_sentences.apply(lambda wrd: ''.join(wrd))\n",
        "\n",
        "train_sentences.head(10)"
      ]
    },
    {
      "cell_type": "markdown",
      "metadata": {
        "id": "a5R-mdL9bjNn"
      },
      "source": [
        "#### Tokenizer"
      ]
    },
    {
      "cell_type": "code",
      "execution_count": 9,
      "metadata": {
        "id": "DbjE-szoWDNI"
      },
      "outputs": [],
      "source": [
        "def fit_tokenizer(data, oov_token):\n",
        "  # Instantiate the Tokenizer class, passing in the correct values for num_words and oov_token\n",
        "  tokenizer = Tokenizer(num_words=1000, oov_token=oov_token)\n",
        "\n",
        "  # Fit the tokenizer to the training sentences\n",
        "  tokenizer.fit_on_texts(data)\n",
        "\n",
        "  return tokenizer\n"
      ]
    },
    {
      "cell_type": "code",
      "execution_count": 10,
      "metadata": {
        "colab": {
          "base_uri": "https://localhost:8080/"
        },
        "id": "bzTaTiLPWyW8",
        "outputId": "bba2a822-9646-4d25-e415-b72e13fd59cb"
      },
      "outputs": [
        {
          "name": "stdout",
          "output_type": "stream",
          "text": [
            "number of unique words:  402\n"
          ]
        }
      ],
      "source": [
        "tokenizer = fit_tokenizer(train_sentences, \"<OOV>\")\n",
        "\n",
        "word_index = tokenizer.word_index\n",
        "vocab_size = len(word_index)\n",
        "print(\"number of unique words: \", vocab_size)"
      ]
    },
    {
      "cell_type": "markdown",
      "metadata": {
        "id": "zQ6j2CWXboQm"
      },
      "source": [
        "#### Sequences, truncating and padding"
      ]
    },
    {
      "cell_type": "code",
      "execution_count": 11,
      "metadata": {
        "id": "Urn2AdlvXJS4"
      },
      "outputs": [],
      "source": [
        "def seq_pad_and_trunc(sentences, tokenizer, padding, truncating, maxlen):\n",
        "\n",
        "    # Convert sentences to sequences\n",
        "    sequences = tokenizer.texts_to_sequences(sentences, )\n",
        "\n",
        "    # Pad the sequences using the correct padding, truncating and maxlen\n",
        "    x_train = pad_sequences(sequences, maxlen=maxlen,\n",
        "                            padding=padding, truncating=truncating)\n",
        "\n",
        "    return x_train\n"
      ]
    },
    {
      "cell_type": "code",
      "execution_count": 12,
      "metadata": {
        "id": "kfaN9d8vXLyA"
      },
      "outputs": [
        {
          "name": "stdout",
          "output_type": "stream",
          "text": [
            "Padded and truncated training sequences have shape: (844, 24)\n",
            "\n",
            "Padded and truncated validation sequences have shape: (212, 24)\n"
          ]
        }
      ],
      "source": [
        "train_pad_trunc_seq = seq_pad_and_trunc(\n",
        "    train_sentences, tokenizer, PADDING, TRUNCATING, MAXLEN)\n",
        "val_pad_trunc_seq = seq_pad_and_trunc(\n",
        "    val_sentences, tokenizer, PADDING, TRUNCATING, MAXLEN)\n",
        "\n",
        "print(\n",
        "    f\"Padded and truncated training sequences have shape: {train_pad_trunc_seq.shape}\\n\")\n",
        "print(\n",
        "    f\"Padded and truncated validation sequences have shape: {val_pad_trunc_seq.shape}\")\n"
      ]
    },
    {
      "cell_type": "code",
      "execution_count": 13,
      "metadata": {},
      "outputs": [],
      "source": [
        "train_labels = np.array(train_labels)\n",
        "val_labels = np.array(val_labels)"
      ]
    },
    {
      "cell_type": "markdown",
      "metadata": {
        "id": "WOoBOsEzbvNy"
      },
      "source": [
        "#### Encoding"
      ]
    },
    {
      "cell_type": "code",
      "execution_count": 14,
      "metadata": {
        "colab": {
          "base_uri": "https://localhost:8080/"
        },
        "id": "BpIWuMJElg38",
        "outputId": "dcbafd91-563d-4418-c017-0f2feba3a495"
      },
      "outputs": [],
      "source": [
        "le = LabelEncoder()\n",
        "train_labels = le.fit_transform(train_labels)\n",
        "val_labels = le.fit_transform(val_labels)"
      ]
    },
    {
      "cell_type": "code",
      "execution_count": 15,
      "metadata": {},
      "outputs": [
        {
          "name": "stdout",
          "output_type": "stream",
          "text": [
            "number of tags:  13\n"
          ]
        }
      ],
      "source": [
        "tags_unique_length = le.classes_.shape[0]\n",
        "print(\"number of tags: \", tags_unique_length)\n"
      ]
    },
    {
      "cell_type": "markdown",
      "metadata": {},
      "source": [
        "## Embedding"
      ]
    },
    {
      "cell_type": "code",
      "execution_count": 16,
      "metadata": {},
      "outputs": [
        {
          "name": "stderr",
          "output_type": "stream",
          "text": [
            "'wget' is not recognized as an internal or external command,\n",
            "operable program or batch file.\n"
          ]
        }
      ],
      "source": [
        "# download it\n",
        "!wget --no-check-certificate \\\n",
        "    http://nlp.stanford.edu/data/glove.6B.zip \\\n",
        "    -O /tmp/glove.6B.zip"
      ]
    },
    {
      "cell_type": "code",
      "execution_count": 17,
      "metadata": {},
      "outputs": [],
      "source": [
        "with zipfile.ZipFile('tmp/glove.6B.zip', 'r') as zip_ref:\n",
        "    zip_ref.extractall('tmp/glove')"
      ]
    },
    {
      "cell_type": "code",
      "execution_count": 18,
      "metadata": {},
      "outputs": [],
      "source": [
        "# Define path to file containing the embeddings\n",
        "GLOVE_FILE = 'tmp/glove/glove.6B.100d.txt'\n",
        "\n",
        "# Initialize an empty embeddings index dictionary\n",
        "GLOVE_EMBEDDINGS = {}\n",
        "\n",
        "# Read file and fill GLOVE_EMBEDDINGS with its contents\n",
        "with open(GLOVE_FILE, encoding=\"utf8\") as f:\n",
        "    for line in f:\n",
        "        values = line.split()\n",
        "        word = values[0]\n",
        "        coefs = np.asarray(values[1:], dtype='float32')\n",
        "        GLOVE_EMBEDDINGS[word] = coefs"
      ]
    },
    {
      "cell_type": "code",
      "execution_count": 19,
      "metadata": {},
      "outputs": [],
      "source": [
        "# Initialize an empty numpy array with the appropriate size\n",
        "EMBEDDINGS_MATRIX = np.zeros((vocab_size+1, EMBEDDING_DIM))\n",
        "\n",
        "# Iterate all of the words in the vocabulary and if the vector representation for\n",
        "# each word exists within GloVe's representations, save it in the EMBEDDINGS_MATRIX array\n",
        "for word, i in word_index.items():\n",
        "    embedding_vector = GLOVE_EMBEDDINGS.get(word)\n",
        "    if embedding_vector is not None:\n",
        "        EMBEDDINGS_MATRIX[i] = embedding_vector"
      ]
    },
    {
      "cell_type": "markdown",
      "metadata": {
        "id": "KPWrLVyzbP_v"
      },
      "source": [
        "## Modelling"
      ]
    },
    {
      "cell_type": "code",
      "execution_count": 20,
      "metadata": {
        "id": "XDqek1bxZvnv"
      },
      "outputs": [],
      "source": [
        "def create_nlp_model(vocab_size, output_length, embedding_dim, embedding_matrix, maxlen):\n",
        "\n",
        "  model = tf.keras.Sequential([\n",
        "      tf.keras.layers.Embedding(vocab_size+1, embedding_dim,\n",
        "                                input_length=maxlen, weights=[embedding_matrix], trainable=True),\n",
        "      tf.keras.layers.Bidirectional(\n",
        "          tf.keras.layers.LSTM(64,  return_sequences=True)),\n",
        "      tf.keras.layers.Bidirectional(tf.keras.layers.LSTM(32)),\n",
        "      tf.keras.layers.Dense(16, activation='relu', kernel_regularizer=tf.keras.regularizers.L1(\n",
        "          1e-6), activity_regularizer=tf.keras.regularizers.L1(1e-6)),\n",
        "      tf.keras.layers.Dropout(0.009),\n",
        "      tf.keras.layers.Dense(16, activation='relu', kernel_regularizer=tf.keras.regularizers.L2(\n",
        "          1e-6), activity_regularizer=tf.keras.regularizers.L2(1e-6)),\n",
        "      tf.keras.layers.Dropout(0.009),\n",
        "      tf.keras.layers.Dense(output_length, activation='softmax')\n",
        "  ])\n",
        "\n",
        "  model.compile(loss='sparse_categorical_crossentropy',\n",
        "                optimizer=tf.keras.optimizers.Adam(learning_rate=0.0001),\n",
        "                metrics=['accuracy'])\n",
        "  return model\n"
      ]
    },
    {
      "cell_type": "code",
      "execution_count": 21,
      "metadata": {
        "colab": {
          "base_uri": "https://localhost:8080/"
        },
        "id": "y_2mtMNUc10j",
        "outputId": "50aae63d-f768-45b4-8bf2-0ae1dd91bd40"
      },
      "outputs": [
        {
          "name": "stdout",
          "output_type": "stream",
          "text": [
            "Model: \"sequential\"\n",
            "_________________________________________________________________\n",
            " Layer (type)                Output Shape              Param #   \n",
            "=================================================================\n",
            " embedding (Embedding)       (None, 24, 100)           40300     \n",
            "                                                                 \n",
            " bidirectional (Bidirectiona  (None, 24, 128)          84480     \n",
            " l)                                                              \n",
            "                                                                 \n",
            " bidirectional_1 (Bidirectio  (None, 64)               41216     \n",
            " nal)                                                            \n",
            "                                                                 \n",
            " dense (Dense)               (None, 16)                1040      \n",
            "                                                                 \n",
            " dropout (Dropout)           (None, 16)                0         \n",
            "                                                                 \n",
            " dense_1 (Dense)             (None, 16)                272       \n",
            "                                                                 \n",
            " dropout_1 (Dropout)         (None, 16)                0         \n",
            "                                                                 \n",
            " dense_2 (Dense)             (None, 13)                221       \n",
            "                                                                 \n",
            "=================================================================\n",
            "Total params: 167,529\n",
            "Trainable params: 167,529\n",
            "Non-trainable params: 0\n",
            "_________________________________________________________________\n"
          ]
        }
      ],
      "source": [
        "model = create_nlp_model(vocab_size, tags_unique_length,\n",
        "                         EMBEDDING_DIM, EMBEDDINGS_MATRIX, MAXLEN)\n",
        "                         \n",
        "model.summary()"
      ]
    },
    {
      "cell_type": "code",
      "execution_count": 22,
      "metadata": {},
      "outputs": [
        {
          "name": "stdout",
          "output_type": "stream",
          "text": [
            "Epoch 1/50\n",
            "27/27 [==============================] - 4s 47ms/step - loss: 2.5632 - accuracy: 0.0912 - val_loss: 2.5548 - val_accuracy: 0.0943\n",
            "Epoch 2/50\n",
            "27/27 [==============================] - 0s 16ms/step - loss: 2.5494 - accuracy: 0.0818 - val_loss: 2.5417 - val_accuracy: 0.0802\n",
            "Epoch 3/50\n",
            "27/27 [==============================] - 0s 16ms/step - loss: 2.5312 - accuracy: 0.0924 - val_loss: 2.5222 - val_accuracy: 0.1038\n",
            "Epoch 4/50\n",
            "27/27 [==============================] - 0s 15ms/step - loss: 2.5057 - accuracy: 0.1232 - val_loss: 2.4926 - val_accuracy: 0.1651\n",
            "Epoch 5/50\n",
            "27/27 [==============================] - 0s 15ms/step - loss: 2.4670 - accuracy: 0.1600 - val_loss: 2.4476 - val_accuracy: 0.1887\n",
            "Epoch 6/50\n",
            "27/27 [==============================] - 0s 15ms/step - loss: 2.4126 - accuracy: 0.1825 - val_loss: 2.3803 - val_accuracy: 0.1698\n",
            "Epoch 7/50\n",
            "27/27 [==============================] - 0s 15ms/step - loss: 2.3282 - accuracy: 0.1991 - val_loss: 2.2923 - val_accuracy: 0.1792\n",
            "Epoch 8/50\n",
            "27/27 [==============================] - 0s 15ms/step - loss: 2.2149 - accuracy: 0.2133 - val_loss: 2.1697 - val_accuracy: 0.2123\n",
            "Epoch 9/50\n",
            "27/27 [==============================] - 0s 15ms/step - loss: 2.0880 - accuracy: 0.2346 - val_loss: 2.0498 - val_accuracy: 0.2358\n",
            "Epoch 10/50\n",
            "27/27 [==============================] - 0s 15ms/step - loss: 1.9547 - accuracy: 0.2701 - val_loss: 1.9354 - val_accuracy: 0.2642\n",
            "Epoch 11/50\n",
            "27/27 [==============================] - 0s 15ms/step - loss: 1.8126 - accuracy: 0.3021 - val_loss: 1.8046 - val_accuracy: 0.2925\n",
            "Epoch 12/50\n",
            "27/27 [==============================] - 0s 15ms/step - loss: 1.6958 - accuracy: 0.3329 - val_loss: 1.6616 - val_accuracy: 0.3585\n",
            "Epoch 13/50\n",
            "27/27 [==============================] - 0s 16ms/step - loss: 1.5647 - accuracy: 0.4964 - val_loss: 1.5358 - val_accuracy: 0.5566\n",
            "Epoch 14/50\n",
            "27/27 [==============================] - 0s 15ms/step - loss: 1.4284 - accuracy: 0.6161 - val_loss: 1.3984 - val_accuracy: 0.6509\n",
            "Epoch 15/50\n",
            "27/27 [==============================] - 0s 15ms/step - loss: 1.3202 - accuracy: 0.6694 - val_loss: 1.2966 - val_accuracy: 0.6981\n",
            "Epoch 16/50\n",
            "27/27 [==============================] - 0s 15ms/step - loss: 1.2272 - accuracy: 0.7156 - val_loss: 1.2037 - val_accuracy: 0.7453\n",
            "Epoch 17/50\n",
            "27/27 [==============================] - 0s 15ms/step - loss: 1.1303 - accuracy: 0.7464 - val_loss: 1.1404 - val_accuracy: 0.7170\n",
            "Epoch 18/50\n",
            "27/27 [==============================] - 0s 15ms/step - loss: 1.0509 - accuracy: 0.7749 - val_loss: 1.0379 - val_accuracy: 0.7594\n",
            "Epoch 19/50\n",
            "27/27 [==============================] - 0s 16ms/step - loss: 0.9724 - accuracy: 0.7784 - val_loss: 0.9650 - val_accuracy: 0.7736\n",
            "Epoch 20/50\n",
            "27/27 [==============================] - 0s 15ms/step - loss: 0.9045 - accuracy: 0.7927 - val_loss: 0.9373 - val_accuracy: 0.7783\n",
            "Epoch 21/50\n",
            "27/27 [==============================] - 0s 15ms/step - loss: 0.8491 - accuracy: 0.7938 - val_loss: 0.8493 - val_accuracy: 0.7689\n",
            "Epoch 22/50\n",
            "27/27 [==============================] - 0s 15ms/step - loss: 0.7994 - accuracy: 0.7962 - val_loss: 0.8084 - val_accuracy: 0.7642\n",
            "Epoch 23/50\n",
            "27/27 [==============================] - 0s 15ms/step - loss: 0.7428 - accuracy: 0.8092 - val_loss: 0.7429 - val_accuracy: 0.7972\n",
            "Epoch 24/50\n",
            "27/27 [==============================] - 0s 15ms/step - loss: 0.6953 - accuracy: 0.8140 - val_loss: 0.7099 - val_accuracy: 0.7925\n",
            "Epoch 25/50\n",
            "27/27 [==============================] - 0s 15ms/step - loss: 0.6660 - accuracy: 0.8211 - val_loss: 0.6720 - val_accuracy: 0.8066\n",
            "Epoch 26/50\n",
            "27/27 [==============================] - 0s 15ms/step - loss: 0.6142 - accuracy: 0.8341 - val_loss: 0.6172 - val_accuracy: 0.8443\n",
            "Epoch 27/50\n",
            "27/27 [==============================] - 0s 15ms/step - loss: 0.5789 - accuracy: 0.8424 - val_loss: 0.5994 - val_accuracy: 0.8538\n",
            "Epoch 28/50\n",
            "27/27 [==============================] - 0s 15ms/step - loss: 0.5706 - accuracy: 0.8555 - val_loss: 0.5822 - val_accuracy: 0.8491\n",
            "Epoch 29/50\n",
            "27/27 [==============================] - 0s 15ms/step - loss: 0.5420 - accuracy: 0.8519 - val_loss: 0.5590 - val_accuracy: 0.8632\n",
            "Epoch 30/50\n",
            "27/27 [==============================] - 0s 15ms/step - loss: 0.4976 - accuracy: 0.8898 - val_loss: 0.4973 - val_accuracy: 0.9104\n",
            "Epoch 31/50\n",
            "27/27 [==============================] - 0s 15ms/step - loss: 0.4909 - accuracy: 0.8945 - val_loss: 0.4638 - val_accuracy: 0.9009\n",
            "Epoch 32/50\n",
            "27/27 [==============================] - 0s 15ms/step - loss: 0.4557 - accuracy: 0.9052 - val_loss: 0.4589 - val_accuracy: 0.9151\n",
            "Epoch 33/50\n",
            "27/27 [==============================] - 0s 15ms/step - loss: 0.4377 - accuracy: 0.9147 - val_loss: 0.4169 - val_accuracy: 0.9528\n",
            "Epoch 34/50\n",
            "27/27 [==============================] - 0s 15ms/step - loss: 0.4064 - accuracy: 0.9218 - val_loss: 0.4069 - val_accuracy: 0.9292\n",
            "Epoch 35/50\n",
            "27/27 [==============================] - 0s 15ms/step - loss: 0.3927 - accuracy: 0.9396 - val_loss: 0.3899 - val_accuracy: 0.9434\n",
            "Epoch 36/50\n",
            "27/27 [==============================] - 0s 15ms/step - loss: 0.3660 - accuracy: 0.9301 - val_loss: 0.3694 - val_accuracy: 0.9387\n",
            "Epoch 37/50\n",
            "27/27 [==============================] - 0s 15ms/step - loss: 0.3446 - accuracy: 0.9443 - val_loss: 0.3737 - val_accuracy: 0.9292\n",
            "Epoch 38/50\n",
            "27/27 [==============================] - 0s 15ms/step - loss: 0.3483 - accuracy: 0.9408 - val_loss: 0.3395 - val_accuracy: 0.9292\n",
            "Epoch 39/50\n",
            "27/27 [==============================] - 0s 15ms/step - loss: 0.3414 - accuracy: 0.9372 - val_loss: 0.3395 - val_accuracy: 0.9292\n",
            "Epoch 40/50\n",
            "27/27 [==============================] - 0s 15ms/step - loss: 0.3077 - accuracy: 0.9396 - val_loss: 0.3096 - val_accuracy: 0.9434\n",
            "Epoch 41/50\n",
            "27/27 [==============================] - 0s 17ms/step - loss: 0.3112 - accuracy: 0.9479 - val_loss: 0.2990 - val_accuracy: 0.9340\n",
            "Epoch 42/50\n",
            "27/27 [==============================] - 0s 15ms/step - loss: 0.2746 - accuracy: 0.9562 - val_loss: 0.2909 - val_accuracy: 0.9434\n",
            "Epoch 43/50\n",
            "27/27 [==============================] - 0s 15ms/step - loss: 0.2591 - accuracy: 0.9633 - val_loss: 0.2698 - val_accuracy: 0.9340\n",
            "Epoch 44/50\n",
            "27/27 [==============================] - 0s 16ms/step - loss: 0.2634 - accuracy: 0.9562 - val_loss: 0.2589 - val_accuracy: 0.9528\n",
            "Epoch 45/50\n",
            "27/27 [==============================] - 0s 16ms/step - loss: 0.2444 - accuracy: 0.9585 - val_loss: 0.2733 - val_accuracy: 0.9292\n",
            "Epoch 46/50\n",
            "27/27 [==============================] - 0s 15ms/step - loss: 0.2341 - accuracy: 0.9597 - val_loss: 0.2570 - val_accuracy: 0.9387\n",
            "Epoch 47/50\n",
            "27/27 [==============================] - 0s 15ms/step - loss: 0.2386 - accuracy: 0.9597 - val_loss: 0.2479 - val_accuracy: 0.9340\n",
            "Epoch 48/50\n",
            "27/27 [==============================] - 0s 15ms/step - loss: 0.1999 - accuracy: 0.9716 - val_loss: 0.2571 - val_accuracy: 0.9340\n",
            "Epoch 49/50\n",
            "27/27 [==============================] - 0s 15ms/step - loss: 0.2124 - accuracy: 0.9633 - val_loss: 0.2382 - val_accuracy: 0.9292\n",
            "Epoch 50/50\n",
            "27/27 [==============================] - 0s 15ms/step - loss: 0.2047 - accuracy: 0.9645 - val_loss: 0.2308 - val_accuracy: 0.9528\n"
          ]
        }
      ],
      "source": [
        "history = model.fit(train_pad_trunc_seq, train_labels,\n",
        "                    epochs=50, validation_data=(val_pad_trunc_seq, val_labels))"
      ]
    },
    {
      "cell_type": "code",
      "execution_count": 23,
      "metadata": {
        "colab": {
          "base_uri": "https://localhost:8080/",
          "height": 285
        },
        "id": "ftg8zQw-oDtH",
        "outputId": "dc7ea5ba-5166-47b9-f88f-7d25d3a34ec3"
      },
      "outputs": [
        {
          "data": {
            "image/png": "[encoded data removed]",
            "text/plain": [
              "<Figure size 432x288 with 1 Axes>"
            ]
          },
          "metadata": {
            "needs_background": "light"
          },
          "output_type": "display_data"
        }
      ],
      "source": [
        "#-----------------------------------------------------------\n",
        "# Retrieve a list of list results on training and test data\n",
        "# sets for each training epoch\n",
        "#-----------------------------------------------------------\n",
        "loss = history.history['loss']\n",
        "val_loss = history.history['val_loss']\n",
        "\n",
        "#------------------------------------------------\n",
        "# Plot training and validation loss per epoch\n",
        "#------------------------------------------------\n",
        "plt.plot(loss, 'r')\n",
        "plt.plot(val_loss, 'b')\n",
        "plt.title('Training and validation loss')\n",
        "plt.xlabel(\"Epochs\")\n",
        "plt.ylabel(\"Loss\")\n",
        "plt.legend([\"Loss\", \"Validation Loss\"])\n",
        "plt.show()\n"
      ]
    },
    {
      "cell_type": "code",
      "execution_count": 24,
      "metadata": {},
      "outputs": [
        {
          "data": {
            "image/png": "[encoded data removed]",
            "text/plain": [
              "<Figure size 432x288 with 1 Axes>"
            ]
          },
          "metadata": {
            "needs_background": "light"
          },
          "output_type": "display_data"
        }
      ],
      "source": [
        "acc = history.history['accuracy']\n",
        "val_acc = history.history['val_accuracy']\n",
        "\n",
        "#------------------------------------------------\n",
        "# Plot training and validation accuracy per epoch\n",
        "#------------------------------------------------\n",
        "plt.plot(acc, 'r')\n",
        "plt.plot(val_acc, 'b')\n",
        "plt.title('Training and validation accuracy')\n",
        "plt.xlabel(\"Epochs\")\n",
        "plt.ylabel(\"Accuracy\")\n",
        "plt.legend([\"Accuracy\", \"Validation Accuracy\"])\n",
        "plt.show()\n"
      ]
    },
    {
      "cell_type": "markdown",
      "metadata": {},
      "source": [
        "## Deploy"
      ]
    },
    {
      "cell_type": "code",
      "execution_count": 25,
      "metadata": {
        "id": "T_cliCIEEwmY"
      },
      "outputs": [],
      "source": [
        "# # with pickle\n",
        "# import pickle\n",
        "# pickle.dump(model, open('model.pkl', 'wb'))\n",
        "\n",
        "# with keras\n",
        "model.save(\"model/model.h5\")"
      ]
    }
  ],
  "metadata": {
    "colab": {
      "collapsed_sections": [],
      "name": "ChatBot_Company_Capstone.ipynb",
      "provenance": []
    },
    "interpreter": {
      "hash": "ba53a595d377893a5d8f198985857c9e6d561d1f944dd06ed29a4a9d0362b6ce"
    },
    "kernelspec": {
      "display_name": "Python 3.8.8 ('base')",
      "language": "python",
      "name": "python3"
    },
    "language_info": {
      "codemirror_mode": {
        "name": "ipython",
        "version": 3
      },
      "file_extension": ".py",
      "mimetype": "text/x-python",
      "name": "python",
      "nbconvert_exporter": "python",
      "pygments_lexer": "ipython3",
      "version": "3.8.8"
    }
  },
  "nbformat": 4,
  "nbformat_minor": 0
}
